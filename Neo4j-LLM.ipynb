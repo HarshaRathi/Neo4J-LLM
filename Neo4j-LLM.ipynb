{
 "cells": [
  {
   "cell_type": "markdown",
   "id": "7be8ea0c-c747-4488-bae9-7a064e53c7ab",
   "metadata": {},
   "source": [
    "# Neo4J and LLM setup "
   ]
  },
  {
   "cell_type": "markdown",
   "id": "ed6322af-98c0-4e94-a015-f00385f11eb4",
   "metadata": {},
   "source": [
    "### Import Libraries"
   ]
  },
  {
   "cell_type": "code",
   "execution_count": null,
   "id": "3ba703eb-fa0f-482e-aaf3-0b9f7daf9573",
   "metadata": {},
   "outputs": [],
   "source": [
    "from langchain_community.graphs import Neo4jGraph\n",
    "from langchain_openai import AzureChatOpenAI\n",
    "from langchain.chains import GraphCypherQAChain\n",
    "from langchain.prompts import PromptTemplate"
   ]
  },
  {
   "cell_type": "markdown",
   "id": "0243a1f3-bf11-4d17-a5be-000fa9fcc57d",
   "metadata": {},
   "source": [
    "### Create a Neo4J Graph Object"
   ]
  },
  {
   "cell_type": "code",
   "execution_count": null,
   "id": "de3c1113-6165-460b-9f8a-3932a01b83d2",
   "metadata": {},
   "outputs": [],
   "source": [
    "graph = Neo4jGraph(url=\"***********\",username=\"**************\",password=\"************\")"
   ]
  },
  {
   "cell_type": "markdown",
   "id": "8b789c9a-6343-4e6f-b2be-0f3b2be72f5e",
   "metadata": {},
   "source": [
    "### Create a LLM Model"
   ]
  },
  {
   "cell_type": "code",
   "execution_count": null,
   "id": "879e2970-3908-4d68-a85b-515e16d9601a",
   "metadata": {},
   "outputs": [],
   "source": [
    "llm = AzureChatOpenAI(temperature=0,\n",
    "                     model=\"gpt-4o\",\n",
    "                     deployment_name=\"*************\",\n",
    "                     api_key=\"*********************\",\n",
    "                     api_version=\"*****************\",\n",
    "                     azure_endpoint=\"**************\",\n",
    "                     openai_api_type=\"azure\")"
   ]
  },
  {
   "cell_type": "markdown",
   "id": "5fadbaf8-e893-4a2d-973d-4eb69d19049d",
   "metadata": {},
   "source": [
    "### Pass a graph to llm"
   ]
  },
  {
   "cell_type": "code",
   "execution_count": null,
   "id": "50ce86ec-7bde-40d9-8b78-a416cc00e8e7",
   "metadata": {},
   "outputs": [],
   "source": [
    "CYPHER_GENERATION_TEMPLATE = \"\"\" Task:Generate cypher statement to query Graph databse.\n",
    "Instructions:\n",
    "1. Use only provided relationship types and properties in Schema.\n",
    "2. Retain the direction of relationship.\n",
    "\n",
    "Schama: {schema}\n",
    "Question : {question}\n",
    "\n",
    "\"\"\"\n",
    "\n",
    "CYPHER_GENERATION_PROMPT = PromptTemplate(input_variables=[\"schema\",\"qustion\"],template=CYPHER_GENERATION_TEMPLATE)"
   ]
  },
  {
   "cell_type": "code",
   "execution_count": null,
   "id": "e5014a2a-c762-421f-b00a-7f5c4a09d53b",
   "metadata": {},
   "outputs": [],
   "source": [
    "QA_GENERATION_TEMPLATE = \"\"\" You are an assistant that takes the result from a Neo4J Cypher Query and forms a human-readable response.\n",
    "\n",
    "Query Results : {context}\n",
    "\n",
    "Question : {question}\n",
    "\n",
    "\"\"\"\n",
    "\n",
    "CYPHER_GENERATION_PROMPT = PromptTemplate(input_variables=[\"qustion\"],template=QA_GENERATION_TEMPLATE)"
   ]
  },
  {
   "cell_type": "code",
   "execution_count": null,
   "id": "a37b4e46-ce5b-4800-b6f2-0ddf43299fc5",
   "metadata": {},
   "outputs": [],
   "source": [
    "chain = GraphCypherQAChain.from_llm(llm,\n",
    "                                   graph=graph,\n",
    "                                   verbose=True,\n",
    "                                   top_k=50,\n",
    "                                   cypher_prompt = CYPHER_GENERATION_PROMPT,\n",
    "                                   qa_prompt = QA_GENERATION_PROMPT,\n",
    "                                   return_intermediate_steps=True)"
   ]
  },
  {
   "cell_type": "markdown",
   "id": "a3bd1e16-1804-42fb-a729-f40fbb77cf1e",
   "metadata": {},
   "source": [
    "### Run a query "
   ]
  },
  {
   "cell_type": "code",
   "execution_count": null,
   "id": "89a9ceb5-fe03-4df4-bcb5-47bb2139967f",
   "metadata": {},
   "outputs": [],
   "source": [
    "query = \"Query\"\n",
    "output = chain(query)\n",
    "print(\"Answer : \", output['result'])\n",
    "print(\"Cypher Query : \",output['intermediate_steps'][0])"
   ]
  }
 ],
 "metadata": {
  "kernelspec": {
   "display_name": "Python 3 (ipykernel)",
   "language": "python",
   "name": "python3"
  },
  "language_info": {
   "codemirror_mode": {
    "name": "ipython",
    "version": 3
   },
   "file_extension": ".py",
   "mimetype": "text/x-python",
   "name": "python",
   "nbconvert_exporter": "python",
   "pygments_lexer": "ipython3",
   "version": "3.12.4"
  }
 },
 "nbformat": 4,
 "nbformat_minor": 5
}
